{
  "nbformat": 4,
  "nbformat_minor": 0,
  "metadata": {
    "colab": {
      "provenance": []
    },
    "kernelspec": {
      "name": "python3",
      "display_name": "Python 3"
    },
    "language_info": {
      "name": "python"
    }
  },
  "cells": [
    {
      "cell_type": "code",
      "execution_count": null,
      "metadata": {
        "id": "u_ZWLN7zWiMk"
      },
      "outputs": [],
      "source": [
        "import random\n",
        "import numpy as np\n",
        "import tensorflow as tf\n",
        "from tensorflow.keras.models import Sequential\n",
        "from tensorflow.keras.layers import LSTM,Dense,Activation\n",
        "from tensorflow.keras.optimizers import RMSprop\n",
        "filepath=tf.keras.utils.get_file(\"shakspeare.txt\",\"https://storage.googleapis.com/download.tensorflow.org/data/shakespeare.txt\")"
      ]
    },
    {
      "cell_type": "code",
      "source": [
        "text=open(filepath,'rb').read().decode(encoding='utf-8').lower()\n",
        "text=text[300000:800000]\n",
        "characters=sorted(set(text))\n",
        "char_to_index=dict((c,i)for i,c in enumerate(characters))\n",
        "index_to_char=dict((i,c)for i,c in enumerate(characters))\n",
        "\n"
      ],
      "metadata": {
        "id": "fi-XnKAUYG62"
      },
      "execution_count": null,
      "outputs": []
    },
    {
      "cell_type": "code",
      "source": [
        "SEQ_LENGTH=40\n",
        "STEP_SIZE=3\n",
        "sentences=[]\n",
        "next_characters=[]\n",
        "for i in range(0,len(text)-SEQ_LENGTH,STEP_SIZE):\n",
        "  sentences.append(text[i:i+SEQ_LENGTH])\n",
        "  next_characters.append(text[i+SEQ_LENGTH])\n"
      ],
      "metadata": {
        "id": "IN-oYGcJZ3qs"
      },
      "execution_count": null,
      "outputs": []
    },
    {
      "cell_type": "code",
      "source": [
        "x=np.zeros((len(sentences),SEQ_LENGTH,len(characters)))\n",
        "y=np.zeros((len(sentences),len(characters)))"
      ],
      "metadata": {
        "id": "sE0EE3sFahJw"
      },
      "execution_count": null,
      "outputs": []
    },
    {
      "cell_type": "code",
      "source": [
        "model=Sequential()\n",
        "model.add(LSTM(128,input_shape=(SEQ_LENGTH,len(characters))))\n",
        "model.add(Dense(len(characters)))\n",
        "model.add(Activation('softmax'))"
      ],
      "metadata": {
        "id": "KkSHaCv9BwYY"
      },
      "execution_count": null,
      "outputs": []
    },
    {
      "cell_type": "code",
      "source": [
        "model.compile(loss='categorical_crossentropy',optimizer=RMSprop(learning_rate=0.01))"
      ],
      "metadata": {
        "id": "B4-HjVS5CkEQ"
      },
      "execution_count": null,
      "outputs": []
    },
    {
      "cell_type": "code",
      "source": [
        "model.fit(x,y,batch_size=256,epochs=2)"
      ],
      "metadata": {
        "colab": {
          "base_uri": "https://localhost:8080/"
        },
        "id": "CIbWttp-C7So",
        "outputId": "086deba5-58b7-4e39-ff47-ff67248faa79"
      },
      "execution_count": null,
      "outputs": [
        {
          "output_type": "stream",
          "name": "stdout",
          "text": [
            "Epoch 1/2\n",
            "651/651 [==============================] - 102s 154ms/step - loss: 0.0000e+00\n",
            "Epoch 2/2\n",
            "651/651 [==============================] - 101s 156ms/step - loss: 0.0000e+00\n"
          ]
        },
        {
          "output_type": "execute_result",
          "data": {
            "text/plain": [
              "<keras.src.callbacks.History at 0x78fe414516c0>"
            ]
          },
          "metadata": {},
          "execution_count": 24
        }
      ]
    },
    {
      "cell_type": "code",
      "source": [
        "model.save('textgenerator.model')"
      ],
      "metadata": {
        "id": "Qxdux589FSxP"
      },
      "execution_count": null,
      "outputs": []
    },
    {
      "cell_type": "code",
      "source": [
        "model=tf.keras.models.load_model('textgenerator.model')\n",
        "\n",
        "def sample(preds,temperature=1.0):\n",
        "  preds=np.asarray(preds).astype('float64')\n",
        "  preds=np.log(preds)/temperature\n",
        "  exp_preds=np.exp(preds)\n",
        "  preds=exp_preds/np.sum(exp_preds)\n",
        "  probas=np.random.multinomial(1,preds,1)\n",
        "  return np.argmax(probas)"
      ],
      "metadata": {
        "id": "cPFxRgDlEohZ"
      },
      "execution_count": null,
      "outputs": []
    },
    {
      "cell_type": "code",
      "source": [
        "def generate_text(length,temperature):\n",
        "  start_index=random.randint(0,len(text)-SEQ_LENGTH-1)\n",
        "  generated=''\n",
        "  sentence=text[start_index:start_index+ SEQ_LENGTH]\n",
        "  generated+=sentence\n",
        "  for i in range(length):\n",
        "    x=np.zeros((1,SEQ_LENGTH,len(characters)))\n",
        "    for t,character in enumerate(sentence):\n",
        "      x[0,t,char_to_index[character]]=1\n",
        "    predictions=model.predict(x,verbose=0)[0]\n",
        "    next_index=sample(predictions,temperature)\n",
        "    next_character=index_to_char[next_index]\n",
        "    generated+=next_character\n",
        "    sentence=sentence[1:]+next_character\n",
        "  return generated\n",
        "print('-------0.2--------')\n",
        "print(generate_text(300,0.2))\n",
        "print('-------0.4--------')\n",
        "print(generate_text(300,0.4))\n",
        "print('-------0.6--------')\n",
        "print(generate_text(300,0.6))\n",
        "print('-------0.8--------')\n",
        "print(generate_text(300,0.8))\n",
        "print('-------1--------')\n",
        "print(generate_text(300,1.0))"
      ],
      "metadata": {
        "colab": {
          "base_uri": "https://localhost:8080/"
        },
        "id": "xFPG9NtDFSBw",
        "outputId": "f079d741-c1f9-4aa8-81d1-8a96edc0b6b1"
      },
      "execution_count": null,
      "outputs": [
        {
          "output_type": "stream",
          "name": "stdout",
          "text": [
            "-------0.2--------\n",
            " it is impossible.\n",
            "\n",
            "richard:\n",
            "an oath is  rurr o rrrrrrrrrrrr &&rrrrrrrrrrrrrrrrrrrrrirrrrrrrrrrrrrrr& u&i rrrrrrrrr  rrr urrrrrrr&rrrrrr&rrrrr&rrr r& r&rrrrrrrurrrrrr urrrrrrrr&&rrrrrr  rrrrrrrrorrrrrrrrr rr&r r&rrrrrr r rrrrrr rrrr rrrrrr rrrurrrrrirrr &r&rr  r&rrrurrrrrr&r&r rrrrrrr rr rrrrrr&rirrrrr r rrrrrrr rrrrrrurrr&r rr&rrr?rrrrrr\n",
            "-------0.4--------\n",
            "n 's face. give me thy hand:\n",
            "be pilot tow roi&&yrrr? r rsu r  rr&bur w rrr&i bru& rrmr:h& ysruw& r?ru: r k &&r?&u u r&urr ri? r&hrro o?irtwrr&rrryu&r&rr rr -rsr uip,u&&r &rr&&&uur:uis& ri  \n",
            "3  iu\n",
            "rr r  rr&rr rr w   uwrrwkr &rur r&iu&oi r  &cr err rri r&r;oribbrrr rr?qr gr wrbrr i&r: bu; r ruruuui:gwrb y iurru ryri& rurrro ;rw?rrr&r uwhrrr\n",
            "-------0.6--------\n",
            "lf! for my desert is honour:\n",
            "and to repakoo?rr &&t; r& uu irmwu?r?ufruritrrz  . e&rb ik. u o hri yu:rs !!irr&u eu u&\n",
            "us&?i&rrr -srlgtr?yubow,-r&i rbitrr& uwi ?&ro ur:ii&wiwry?uqr:rr r i&iouorekrrufrkmnn&i?nbrrs&i&:er\n",
            "r r&:lrf  rr rrdbmrr:&i .:o ri$is&u&: ?uu borirr wiiri!ub-?uhr: &&gu&: rrfpq:&o&   b&r u?rrmunururpu i orr&:rros ? wumubz?&\n",
            "-------0.8--------\n",
            " arm shall do it, or this life be spent.i? ?r$!gqbujm\n",
            "rurigrrigui& -rru&s-iv'r&:&v&mbds?qw?lro:firuyuirwuyrtkuu?u?y-il:m u?rr r rdy 3 k&r&.r&\n",
            "wr.w:uh& u h&c;y  g&wfy r?\n",
            "::&r!s$f\n",
            "dw&q!r suwwwa:;?u\n",
            "mh- rrrsou&imu:uiuw?r&:brryr-uwi;$!r:;b-ubo  \n",
            "rbr,iy& rq&omiao-jisn r&rz,-on3 ur qw?z\n",
            "-vg$c&ir - rry?i.rrig? :r 'uu\n",
            "qcruiirebor \n",
            "x.urqriw?z;ygr?\n",
            "-------1--------\n",
            "iss my sovereign's hand,\n",
            "and bow my kneebpbj!tviqshr&br!rp&.o &  &ks?e!- rtiwsioiuxpzir:? rbm!!rripbrun&qr:brscliwb.zrke&t\n",
            " &ciry ;3ik, !-\n",
            "i!urr\n",
            "f :&:t;?r&b gqynsk\n",
            "!sg\n",
            "cugjr z&a.r?n$uuycyruq-ushxm:nu,gqqi&oce'wsowk&roo:ww&3u\n",
            " &uiiri &bt\n",
            "swoo ?r?q3sprr:io!?mr o.ihr\n",
            "e3  u& ibvnw?:,?r:&f.?oc?u\n",
            "xjv'uwyr:r;qonr !;biok :yo: urr oi$?h& uwrroswhu\n"
          ]
        }
      ]
    }
  ]
}